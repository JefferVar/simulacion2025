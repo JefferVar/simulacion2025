{
  "nbformat": 4,
  "nbformat_minor": 0,
  "metadata": {
    "colab": {
      "provenance": []
    },
    "kernelspec": {
      "name": "python3",
      "display_name": "Python 3"
    },
    "language_info": {
      "name": "python"
    }
  },
  "cells": [
    {
      "cell_type": "code",
      "execution_count": null,
      "metadata": {
        "id": "a3Tw2sZWjo2d"
      },
      "outputs": [],
      "source": [
        "import numpy as np\n",
        "import matplotlib.pyplot as plt\n",
        "# Parámetros de la portadora\n",
        "frecuencia_portadora = 40 # Frecuencia de la portadora en Hz\n",
        "amplitud_portadora = 1 # Amplitud de la portadora\n",
        "t = np.linspace(0, 1, 1000) # Tiempo de simulación\n",
        "portadora = amplitud_portadora * np.cos(2 * np.pi * frecuencia_portadora * t)\n",
        "# Visualizar la señal portadora\n",
        "plt.figure(figsize=(10, 4))\n",
        "plt.plot(t, portadora, label='Señal Portadora')\n",
        "plt.title('Señal Portadora')\n",
        "plt.xlabel('Tiempo [s]')\n",
        "plt.ylabel('Amplitud')\n",
        "plt.legend(loc='upper right')\n",
        "plt.grid(True)\n",
        "plt.show()"
      ]
    },
    {
      "cell_type": "code",
      "source": [
        "# Parámetros de la señal de información\n",
        "frecuencia_informacion = 7  # Frecuencia de la señal de información en Hz\n",
        "amplitud_informacion = 1  # Amplitud de la señal de información\n",
        "\n",
        "# Señal de información\n",
        "informacion = amplitud_informacion * np.sin(2 * np.pi * frecuencia_informacion * t)\n",
        "\n",
        "# Visualizar la señal de información\n",
        "plt.figure(figsize=(10, 4))\n",
        "plt.plot(t, informacion, label='Señal de Información', color='r')\n",
        "plt.title('Señal de Información')\n",
        "plt.xlabel('Tiempo [s]')\n",
        "plt.ylabel('Amplitud')\n",
        "plt.legend(loc='upper right')\n",
        "plt.grid(True)\n",
        "plt.show()\n"
      ],
      "metadata": {
        "id": "M9hkU6CWl7l3"
      },
      "execution_count": null,
      "outputs": []
    },
    {
      "cell_type": "code",
      "source": [
        "# Modulación AM: combinación de la portadora y la señal de información\n",
        "modulada = (1 + informacion) * portadora # Fórmula de modulación AM\n",
        "# Visualizar la señal modulada\n",
        "plt.figure(figsize=(10, 4))\n",
        "plt.plot(t, modulada, label='Señal Modulda AM', color='g')\n",
        "plt.title('Señal Modulda AM')\n",
        "plt.xlabel('Tiempo [s]')\n",
        "plt.ylabel('Amplitud')\n",
        "plt.legend(loc='upper right')\n",
        "plt.grid(True)\n",
        "plt.show()"
      ],
      "metadata": {
        "id": "QHGyQk2pqZnx"
      },
      "execution_count": null,
      "outputs": []
    }
  ]
}
